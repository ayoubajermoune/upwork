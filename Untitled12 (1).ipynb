{
  "nbformat": 4,
  "nbformat_minor": 0,
  "metadata": {
    "colab": {
      "provenance": []
    },
    "kernelspec": {
      "name": "python3",
      "display_name": "Python 3"
    },
    "language_info": {
      "name": "python"
    }
  },
  "cells": [
    {
      "cell_type": "code",
      "source": [
        "!pip install selenium\n",
        "!apt-get update\n",
        "!apt install chromium-chromedriver"
      ],
      "metadata": {
        "id": "81uN7LfaF9LE"
      },
      "execution_count": null,
      "outputs": []
    },
    {
      "cell_type": "code",
      "source": [
        "from selenium import webdriver\n",
        "from selenium.webdriver.common.by import By\n",
        "from selenium.webdriver.support.ui import WebDriverWait\n",
        "from selenium.webdriver.support import expected_conditions as EC\n",
        "import pandas as pd\n",
        "import time\n",
        "\n",
        "# Load email and password data from Excel file\n",
        "df = pd.read_excel('your_excel_file.xlsx')\n",
        "emails = df['Email'].tolist()\n",
        "passwords = df['Password'].tolist()\n",
        "post_texts = df['Post'].tolist()\n",
        "\n",
        "# Initialize browser\n",
        "options = webdriver.ChromeOptions()\n",
        "options.add_argument(\"--incognito\")  # Open browser in incognito mode\n",
        "driver = webdriver.Chrome(options=options)\n",
        "\n",
        "# Function to post in the community section\n",
        "def post_in_community(email, password, post_text):\n",
        "    driver.get(\"https://finance.yahoo.com/quote/T/community\")\n",
        "    WebDriverWait(driver, 10).until(EC.element_to_be_clickable((By.XPATH, '//button[contains(text(), \"Log in\")]'))).click()\n",
        "    WebDriverWait(driver, 10).until(EC.element_to_be_clickable((By.XPATH, '//span[contains(text(), \"Continue with Google\")]'))).click()\n",
        "\n",
        "    # Log in with Google\n",
        "    WebDriverWait(driver, 10).until(EC.presence_of_element_located((By.XPATH, '//input[@type=\"email\"]'))).send_keys(email)\n",
        "    WebDriverWait(driver, 10).until(EC.element_to_be_clickable((By.XPATH, '//span[contains(text(), \"Next\")]'))).click()\n",
        "    WebDriverWait(driver, 10).until(EC.presence_of_element_located((By.XPATH, '//input[@type=\"password\"]'))).send_keys(password)\n",
        "    WebDriverWait(driver, 10).until(EC.element_to_be_clickable((By.XPATH, '//span[contains(text(), \"Next\")]'))).click()\n",
        "\n",
        "    # Post in community section\n",
        "    WebDriverWait(driver, 10).until(EC.element_to_be_clickable((By.XPATH, '//textarea'))).send_keys(post_text)\n",
        "    WebDriverWait(driver, 10).until(EC.element_to_be_clickable((By.XPATH, '//span[contains(text(), \"Post\")]'))).click()\n",
        "\n",
        "    # Wait for post to be submitted\n",
        "    time.sleep(5)\n",
        "\n",
        "# Iterate through each email and password, and post in the community section\n",
        "for email, password, post_text in zip(emails, passwords, post_texts):\n",
        "    post_in_community(email, password, post_text)\n",
        "    # Clean browser history\n",
        "    driver.delete_all_cookies()\n",
        "    driver.execute_script(\"window.localStorage.clear();\")\n",
        "\n",
        "# Close the browser\n",
        "driver.quit()\n"
      ],
      "metadata": {
        "id": "Vme_CUcJYRk1"
      },
      "execution_count": null,
      "outputs": []
    }
  ]
}